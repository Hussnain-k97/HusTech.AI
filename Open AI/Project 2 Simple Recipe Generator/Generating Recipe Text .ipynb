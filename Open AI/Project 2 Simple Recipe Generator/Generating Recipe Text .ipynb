{
 "cells": [
  {
   "cell_type": "code",
   "execution_count": 1,
   "id": "725580c1",
   "metadata": {},
   "outputs": [],
   "source": [
    "# Import necessary libraries\n",
    "import os\n",
    "from openai import OpenAI"
   ]
  },
  {
   "cell_type": "code",
   "execution_count": 2,
   "id": "8dd1e072",
   "metadata": {},
   "outputs": [],
   "source": [
    "# Retrieve API key from environment variables\n",
    "api_key = os.getenv('OPENAI_API_KEY')\n",
    "\n",
    "# Initialize OpenAI client\n",
    "client = OpenAI(api_key=api_key)"
   ]
  },
  {
   "cell_type": "code",
   "execution_count": 3,
   "id": "604bd555",
   "metadata": {},
   "outputs": [],
   "source": [
    "# Function to create a prompt for generating a recipe based on a list of ingredients\n",
    "def create_dish_prompt(list_of_ingredients):\n",
    "     # Construct a prompt using the provided ingredients list\n",
    "    prompt = f\"Create a detailed recipe based on only the following ingredients: {','.join(list_of_ingredients)}.\\n\"\\\n",
    "            +f\"Additionally, assign a title starting with 'Recipe Title: ' to this recipe.\"\n",
    "    return prompt"
   ]
  },
  {
   "cell_type": "code",
   "execution_count": 4,
   "id": "d44d0bae",
   "metadata": {},
   "outputs": [],
   "source": [
    "# Define the ingredients list\n",
    "ingredients = ['chicken', 'broccoli', 'garlic', 'soy sauce']"
   ]
  },
  {
   "cell_type": "code",
   "execution_count": 5,
   "id": "4a6626a9",
   "metadata": {},
   "outputs": [],
   "source": [
    "# Generate the prompt using the ingredients list\n",
    "prompt = create_dish_prompt(ingredients)"
   ]
  },
  {
   "cell_type": "code",
   "execution_count": 6,
   "id": "c9e8e0f1",
   "metadata": {},
   "outputs": [],
   "source": [
    "# Use the prompt in the completion code by initiating a chat completion request\n",
    "completion = client.chat.completions.create(\n",
    "    messages=[\n",
    "        {\n",
    "            \"role\": \"user\",\n",
    "            \"content\": prompt,\n",
    "        }\n",
    "    ],\n",
    "    model=\"gpt-3.5-turbo\",\n",
    ")"
   ]
  },
  {
   "cell_type": "code",
   "execution_count": 7,
   "id": "572718a1",
   "metadata": {},
   "outputs": [],
   "source": [
    "# Extract the content from the completion\n",
    "content = completion.choices[0].message.content"
   ]
  },
  {
   "cell_type": "code",
   "execution_count": 8,
   "id": "0deb560e",
   "metadata": {},
   "outputs": [],
   "source": [
    "# Split the content into recipe title and detailed recipe\n",
    "split_content = content.split('\\n', 1)  # Split into two parts based on the first newline\n",
    "recipe_title = split_content[0].strip()  # Extract the recipe title\n",
    "detailed_recipe = split_content[1].strip()  # Extract the detailed recipe content"
   ]
  },
  {
   "cell_type": "code",
   "execution_count": 9,
   "id": "5f233676",
   "metadata": {},
   "outputs": [
    {
     "name": "stdout",
     "output_type": "stream",
     "text": [
      "Recipe Title: Recipe Title: Garlic Soy Sauce Chicken with Broccoli\n",
      "\n",
      "Detailed Recipe:\n",
      "Ingredients:\n",
      "- 2 boneless, skinless chicken breasts\n",
      "- 2 cups broccoli florets\n",
      "- 4 cloves garlic, minced\n",
      "- 1/4 cup soy sauce\n",
      "- 2 tablespoons olive oil\n",
      "- Salt and pepper, to taste\n",
      "\n",
      "Instructions:\n",
      "\n",
      "1. Start by preparing the chicken breasts. Rinse them under cold water and pat them dry with paper towels. Season both sides with salt and pepper.\n",
      "\n",
      "2. Heat the olive oil in a large non-stick skillet over medium-high heat. Once hot, add the chicken breasts and cook for about 6-8 minutes per side, or until they are cooked through and reach an internal temperature of 165°F (74°C). Remove the chicken from the skillet and set aside.\n",
      "\n",
      "3. In the same skillet, add the minced garlic and cook over medium heat for about 1 minute, or until fragrant. Be careful not to burn it.\n",
      "\n",
      "4. Add the broccoli florets to the skillet and stir-fry them for about 3-4 minutes, until they turn bright green and are slightly tender.\n",
      "\n",
      "5. Meanwhile, slice the cooked chicken breasts into thin strips and set them aside.\n",
      "\n",
      "6. In a small bowl, whisk together the soy sauce and 2 tablespoons of water. Pour this mixture over the broccoli in the skillet and let it cook for an additional minute, allowing the flavors to combine.\n",
      "\n",
      "7. Return the sliced chicken to the skillet and toss everything together, making sure the chicken and broccoli are evenly coated in the soy sauce mixture.\n",
      "\n",
      "8. Cook for another 2-3 minutes, stirring occasionally, until the chicken is reheated and coated with the sauce.\n",
      "\n",
      "9. Remove the skillet from the heat and serve the Garlic Soy Sauce Chicken with Broccoli over steamed rice or noodles. Garnish with chopped green onions or sesame seeds if desired.\n",
      "\n",
      "Enjoy this flavorful and healthy Garlic Soy Sauce Chicken with Broccoli that is sure to satisfy your taste buds!\n"
     ]
    }
   ],
   "source": [
    "# Print the extracted parts\n",
    "print(\"Recipe Title:\", recipe_title)\n",
    "print(\"\\nDetailed Recipe:\")\n",
    "print(detailed_recipe)"
   ]
  }
 ],
 "metadata": {
  "kernelspec": {
   "display_name": "Python 3 (ipykernel)",
   "language": "python",
   "name": "python3"
  },
  "language_info": {
   "codemirror_mode": {
    "name": "ipython",
    "version": 3
   },
   "file_extension": ".py",
   "mimetype": "text/x-python",
   "name": "python",
   "nbconvert_exporter": "python",
   "pygments_lexer": "ipython3",
   "version": "3.11.5"
  }
 },
 "nbformat": 4,
 "nbformat_minor": 5
}
