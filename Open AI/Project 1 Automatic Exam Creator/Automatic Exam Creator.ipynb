{
 "cells": [
  {
   "cell_type": "code",
   "execution_count": 1,
   "id": "8741fdbb",
   "metadata": {},
   "outputs": [],
   "source": [
    "import os\n",
    "from openai import OpenAI"
   ]
  },
  {
   "cell_type": "code",
   "execution_count": 2,
   "id": "b4153e57",
   "metadata": {},
   "outputs": [],
   "source": [
    "api_key = os.getenv('OPENAI_API_KEY')\n",
    "client = OpenAI(api_key=api_key)"
   ]
  },
  {
   "cell_type": "markdown",
   "id": "9a50414f",
   "metadata": {},
   "source": [
    "## Prompt Generation"
   ]
  },
  {
   "cell_type": "code",
   "execution_count": 3,
   "id": "c0aa828e",
   "metadata": {},
   "outputs": [],
   "source": [
    "def create_test_prompt(topic, num_questions, num_possible_answers, temperature):\n",
    "    prompt = (\n",
    "        f\"Create a multiple choice quiz on the topic of {topic} consisting of {num_questions} questions.\"\n",
    "        + f\"Each question should have {num_possible_answers} options.\"\n",
    "        + f\"Also include the correct answer for each question using the starting string \\n 'Correct Answer:' \"\n",
    "        + f\"Set the temperature for generating responses to {temperature}.\"\n",
    "    )\n",
    "    return prompt\n"
   ]
  },
  {
   "cell_type": "markdown",
   "id": "c1cbc100",
   "metadata": {},
   "source": [
    "## Quiz Topic Selection\n",
    "#### Temperature in language generation adjusts the randomness of outputs\n",
    "Low temperature (close to 0) generates predictable text by favoring high-probability words.\n",
    "\n",
    "Medium temperature (around 0.5 to 0.7) balances coherence and diversity in responses.\n",
    "\n",
    "High temperature  (closer to 1 and above) fosters creativity but may yield less coherent outputs due to increased randomness."
   ]
  },
  {
   "cell_type": "code",
   "execution_count": 4,
   "id": "9b0281f7",
   "metadata": {},
   "outputs": [],
   "source": [
    "temperature_value = 0.9\n",
    "prompt = create_test_prompt('Quantum Quest: Journey through the World of Quantum Computing',10,4, temperature_value)   #4,4 = 4 questions 4 options"
   ]
  },
  {
   "cell_type": "markdown",
   "id": "cc2d311f",
   "metadata": {},
   "source": [
    "### Using OpenAI's GPT-3.5-Turbo Model for Chatbot Responses."
   ]
  },
  {
   "cell_type": "code",
   "execution_count": 5,
   "id": "e871f996",
   "metadata": {},
   "outputs": [],
   "source": [
    "completion = client.chat.completions.create(\n",
    "    messages=[\n",
    "        {\n",
    "            \"role\": \"user\",\n",
    "            \"content\": prompt,\n",
    "        }\n",
    "    ],\n",
    "    model=\"gpt-3.5-turbo\",\n",
    ")"
   ]
  },
  {
   "cell_type": "markdown",
   "id": "38087c84",
   "metadata": {},
   "source": [
    "### Quiz Generation along with the correct answers"
   ]
  },
  {
   "cell_type": "code",
   "execution_count": 6,
   "id": "8eca9d6d",
   "metadata": {},
   "outputs": [
    {
     "name": "stdout",
     "output_type": "stream",
     "text": [
      "Question 1: What is the primary objective of the Quantum Quest: Journey through the World of Quantum Computing?\n",
      "\n",
      "a) To explore the world of classical computing\n",
      "b) To unravel the mysteries of quantum mechanics\n",
      "c) To discover new principles of artificial intelligence\n",
      "d) To develop new algorithms for data analysis\n",
      "\n",
      "Correct Answer: b) To unravel the mysteries of quantum mechanics\n",
      "\n",
      "Question 2: What does superposition refer to in quantum computing?\n",
      "\n",
      "a) The entanglement of qubits\n",
      "b) The ability to be in multiple states simultaneously\n",
      "c) The process of measuring quantum states\n",
      "d) The manipulation of qubits through operations\n",
      "\n",
      "Correct Answer: b) The ability to be in multiple states simultaneously\n",
      "\n",
      "Question 3: What is a qubit?\n",
      "\n",
      "a) The basic unit of information in classical computing\n",
      "b) A computational problem that is impossible to solve\n",
      "c) A quantum bit, the fundamental unit of quantum computing\n",
      "d) A black hole with quantum properties\n",
      "\n",
      "Correct Answer: c) A quantum bit, the fundamental unit of quantum computing\n",
      "\n",
      "Question 4: What is the key principle behind quantum entanglement?\n",
      "\n",
      "a) The ability to manipulate qubits\n",
      "b) The measurement of quantum states\n",
      "c) The connection between two or more qubits\n",
      "d) The process of applying quantum gates\n",
      "\n",
      "Correct Answer: c) The connection between two or more qubits\n",
      "\n",
      "Question 5: What is the term for the phenomenon where observing a quantum system affects its state?\n",
      "\n",
      "a) Quantum computing\n",
      "b) Quantum entanglement\n",
      "c) Quantum decoherence\n",
      "d) Quantum measurement\n",
      "\n",
      "Correct Answer: d) Quantum measurement\n",
      "\n",
      "Question 6: What is a quantum gate?\n",
      "\n",
      "a) A physical entrance to a quantum computer\n",
      "b) A mathematical operation that manipulates qubits\n",
      "c) A measurement device for quantum states\n",
      "d) A superposition of quantum states\n",
      "\n",
      "Correct Answer: b) A mathematical operation that manipulates qubits\n",
      "\n",
      "Question 7: What is quantum decoherence?\n",
      "\n",
      "a) The loss of quantum information and coherence\n",
      "b) The ability of qubits to remain in superposition indefinitely\n",
      "c) The process of entangling multiple qubits\n",
      "d) The creation of quantum algorithms\n",
      "\n",
      "Correct Answer: a) The loss of quantum information and coherence\n",
      "\n",
      "Question 8: What is the significance of quantum supremacy?\n",
      "\n",
      "a) The achievement of quantum entanglement\n",
      "b) The establishment of quantum computing as the standard\n",
      "c) The ability to solve complex problems faster than classical computers\n",
      "d) The development of quantum algorithms for optimization\n",
      "\n",
      "Correct Answer: c) The ability to solve complex problems faster than classical computers\n",
      "\n",
      "Question 9: What is the role of quantum error correction in quantum computing?\n",
      "\n",
      "a) To prevent errors in the transmission of classical data\n",
      "b) To correct errors that occur during quantum computations\n",
      "c) To optimize the performance of quantum gates\n",
      "d) To provide security against quantum hacking\n",
      "\n",
      "Correct Answer: b) To correct errors that occur during quantum computations\n",
      "\n",
      "Question 10: What is the ultimate goal of quantum computing?\n",
      "\n",
      "a) To replace classical computers entirely\n",
      "b) To simulate quantum systems accurately\n",
      "c) To improve the efficiency of data storage and retrieval\n",
      "d) To revolutionize various fields including cryptography and drug discovery\n",
      "\n",
      "Correct Answer: d) To revolutionize various fields including cryptography and drug discovery\n"
     ]
    }
   ],
   "source": [
    "#print(\"Completion Details:\")\n",
    "#print(completion)\n",
    "#print(\"\\nMessage Content:\")\n",
    "content = completion.choices[0].message.content\n",
    "print(content)"
   ]
  },
  {
   "cell_type": "markdown",
   "id": "f1c0f77e",
   "metadata": {},
   "source": [
    "### Generating a student view based on the question paper"
   ]
  },
  {
   "cell_type": "code",
   "execution_count": 7,
   "id": "e77f2c89",
   "metadata": {},
   "outputs": [],
   "source": [
    "def create_student_view(test,num_questions):\n",
    "    student_view = {1:''}\n",
    "    question_number = 1\n",
    "    for line in test.split(\"\\n\"):\n",
    "        if not line.startswith(\"Correct Answer:\"):\n",
    "            student_view[question_number] += line+ '\\n'\n",
    "        else:\n",
    "            if question_number < num_questions:\n",
    "                question_number +=1\n",
    "                student_view[question_number]=''\n",
    "    return student_view"
   ]
  },
  {
   "cell_type": "code",
   "execution_count": 8,
   "id": "0bf01ad3",
   "metadata": {},
   "outputs": [],
   "source": [
    "# Generate student view after the completion\n",
    "student_view = create_student_view(content, 4)  # Assuming 4 questions as in the prompt"
   ]
  },
  {
   "cell_type": "markdown",
   "id": "4b27807c",
   "metadata": {},
   "source": [
    "## Student View"
   ]
  },
  {
   "cell_type": "code",
   "execution_count": 9,
   "id": "513c1c22",
   "metadata": {},
   "outputs": [
    {
     "name": "stdout",
     "output_type": "stream",
     "text": [
      "Question 1: What is the primary objective of the Quantum Quest: Journey through the World of Quantum Computing?\n",
      "\n",
      "a) To explore the world of classical computing\n",
      "b) To unravel the mysteries of quantum mechanics\n",
      "c) To discover new principles of artificial intelligence\n",
      "d) To develop new algorithms for data analysis\n",
      "\n",
      "\n",
      "\n",
      "Question 2: What does superposition refer to in quantum computing?\n",
      "\n",
      "a) The entanglement of qubits\n",
      "b) The ability to be in multiple states simultaneously\n",
      "c) The process of measuring quantum states\n",
      "d) The manipulation of qubits through operations\n",
      "\n",
      "\n",
      "\n",
      "Question 3: What is a qubit?\n",
      "\n",
      "a) The basic unit of information in classical computing\n",
      "b) A computational problem that is impossible to solve\n",
      "c) A quantum bit, the fundamental unit of quantum computing\n",
      "d) A black hole with quantum properties\n",
      "\n",
      "\n",
      "\n",
      "Question 4: What is the key principle behind quantum entanglement?\n",
      "\n",
      "a) The ability to manipulate qubits\n",
      "b) The measurement of quantum states\n",
      "c) The connection between two or more qubits\n",
      "d) The process of applying quantum gates\n",
      "\n",
      "\n",
      "Question 5: What is the term for the phenomenon where observing a quantum system affects its state?\n",
      "\n",
      "a) Quantum computing\n",
      "b) Quantum entanglement\n",
      "c) Quantum decoherence\n",
      "d) Quantum measurement\n",
      "\n",
      "\n",
      "Question 6: What is a quantum gate?\n",
      "\n",
      "a) A physical entrance to a quantum computer\n",
      "b) A mathematical operation that manipulates qubits\n",
      "c) A measurement device for quantum states\n",
      "d) A superposition of quantum states\n",
      "\n",
      "\n",
      "Question 7: What is quantum decoherence?\n",
      "\n",
      "a) The loss of quantum information and coherence\n",
      "b) The ability of qubits to remain in superposition indefinitely\n",
      "c) The process of entangling multiple qubits\n",
      "d) The creation of quantum algorithms\n",
      "\n",
      "\n",
      "Question 8: What is the significance of quantum supremacy?\n",
      "\n",
      "a) The achievement of quantum entanglement\n",
      "b) The establishment of quantum computing as the standard\n",
      "c) The ability to solve complex problems faster than classical computers\n",
      "d) The development of quantum algorithms for optimization\n",
      "\n",
      "\n",
      "Question 9: What is the role of quantum error correction in quantum computing?\n",
      "\n",
      "a) To prevent errors in the transmission of classical data\n",
      "b) To correct errors that occur during quantum computations\n",
      "c) To optimize the performance of quantum gates\n",
      "d) To provide security against quantum hacking\n",
      "\n",
      "\n",
      "Question 10: What is the ultimate goal of quantum computing?\n",
      "\n",
      "a) To replace classical computers entirely\n",
      "b) To simulate quantum systems accurately\n",
      "c) To improve the efficiency of data storage and retrieval\n",
      "d) To revolutionize various fields including cryptography and drug discovery\n",
      "\n",
      "\n"
     ]
    }
   ],
   "source": [
    "for key in student_view:\n",
    "    print(student_view[key])"
   ]
  },
  {
   "cell_type": "markdown",
   "id": "e5dfdd12",
   "metadata": {},
   "source": [
    "## Extracting the answers from the test"
   ]
  },
  {
   "cell_type": "code",
   "execution_count": 10,
   "id": "f96eef35",
   "metadata": {},
   "outputs": [],
   "source": [
    "def extract_answer(test,num_questions):\n",
    "    answers = {1:''}\n",
    "    question_number = 1\n",
    "    for line in test.split(\"\\n\"):\n",
    "        if line.startswith(\"Correct Answer:\"):\n",
    "            answers[question_number] += line+ '\\n'\n",
    "        \n",
    "            if question_number < num_questions:\n",
    "                question_number +=1\n",
    "                answers[question_number]=''\n",
    "    return answers"
   ]
  },
  {
   "cell_type": "code",
   "execution_count": 11,
   "id": "c9eda9fc",
   "metadata": {},
   "outputs": [
    {
     "data": {
      "text/plain": [
       "{1: 'Correct Answer: b) To unravel the mysteries of quantum mechanics\\n',\n",
       " 2: 'Correct Answer: b) The ability to be in multiple states simultaneously\\n',\n",
       " 3: 'Correct Answer: c) A quantum bit, the fundamental unit of quantum computing\\n',\n",
       " 4: 'Correct Answer: c) The connection between two or more qubits\\nCorrect Answer: d) Quantum measurement\\nCorrect Answer: b) A mathematical operation that manipulates qubits\\nCorrect Answer: a) The loss of quantum information and coherence\\nCorrect Answer: c) The ability to solve complex problems faster than classical computers\\nCorrect Answer: b) To correct errors that occur during quantum computations\\nCorrect Answer: d) To revolutionize various fields including cryptography and drug discovery\\n'}"
      ]
     },
     "execution_count": 11,
     "metadata": {},
     "output_type": "execute_result"
    }
   ],
   "source": [
    "extract_answer(completion.choices[0].message.content,4)"
   ]
  },
  {
   "cell_type": "code",
   "execution_count": 12,
   "id": "384f1f32",
   "metadata": {},
   "outputs": [],
   "source": [
    "student_view = create_student_view(completion.choices[0].message.content,10)"
   ]
  },
  {
   "cell_type": "code",
   "execution_count": 13,
   "id": "49a47aab",
   "metadata": {},
   "outputs": [],
   "source": [
    "answers = extract_answer(completion.choices[0].message.content,10)"
   ]
  },
  {
   "cell_type": "markdown",
   "id": "5b1abd0d",
   "metadata": {},
   "source": [
    "## TAKING THE EXAM "
   ]
  },
  {
   "cell_type": "code",
   "execution_count": 14,
   "id": "fe59ec1f",
   "metadata": {},
   "outputs": [],
   "source": [
    "def take(student_view):\n",
    "    student_answers={}\n",
    "    for question, question_view in student_view.items():\n",
    "        print(question_view)\n",
    "        answer = input(\"Enter your answer: \")\n",
    "        student_answers[question] = answer\n",
    "    return student_answers"
   ]
  },
  {
   "cell_type": "code",
   "execution_count": 15,
   "id": "f5b5b8a7",
   "metadata": {},
   "outputs": [],
   "source": [
    "#student_view.items()"
   ]
  },
  {
   "cell_type": "code",
   "execution_count": 16,
   "id": "beebbcbf",
   "metadata": {},
   "outputs": [
    {
     "name": "stdout",
     "output_type": "stream",
     "text": [
      "Question 1: What is the primary objective of the Quantum Quest: Journey through the World of Quantum Computing?\n",
      "\n",
      "a) To explore the world of classical computing\n",
      "b) To unravel the mysteries of quantum mechanics\n",
      "c) To discover new principles of artificial intelligence\n",
      "d) To develop new algorithms for data analysis\n",
      "\n",
      "\n",
      "Enter your answer: b\n",
      "\n",
      "Question 2: What does superposition refer to in quantum computing?\n",
      "\n",
      "a) The entanglement of qubits\n",
      "b) The ability to be in multiple states simultaneously\n",
      "c) The process of measuring quantum states\n",
      "d) The manipulation of qubits through operations\n",
      "\n",
      "\n",
      "Enter your answer: b\n",
      "\n",
      "Question 3: What is a qubit?\n",
      "\n",
      "a) The basic unit of information in classical computing\n",
      "b) A computational problem that is impossible to solve\n",
      "c) A quantum bit, the fundamental unit of quantum computing\n",
      "d) A black hole with quantum properties\n",
      "\n",
      "\n",
      "Enter your answer: c\n",
      "\n",
      "Question 4: What is the key principle behind quantum entanglement?\n",
      "\n",
      "a) The ability to manipulate qubits\n",
      "b) The measurement of quantum states\n",
      "c) The connection between two or more qubits\n",
      "d) The process of applying quantum gates\n",
      "\n",
      "\n",
      "Enter your answer: d\n",
      "\n",
      "Question 5: What is the term for the phenomenon where observing a quantum system affects its state?\n",
      "\n",
      "a) Quantum computing\n",
      "b) Quantum entanglement\n",
      "c) Quantum decoherence\n",
      "d) Quantum measurement\n",
      "\n",
      "\n",
      "Enter your answer: d\n",
      "\n",
      "Question 6: What is a quantum gate?\n",
      "\n",
      "a) A physical entrance to a quantum computer\n",
      "b) A mathematical operation that manipulates qubits\n",
      "c) A measurement device for quantum states\n",
      "d) A superposition of quantum states\n",
      "\n",
      "\n",
      "Enter your answer: b\n",
      "\n",
      "Question 7: What is quantum decoherence?\n",
      "\n",
      "a) The loss of quantum information and coherence\n",
      "b) The ability of qubits to remain in superposition indefinitely\n",
      "c) The process of entangling multiple qubits\n",
      "d) The creation of quantum algorithms\n",
      "\n",
      "\n",
      "Enter your answer: a\n",
      "\n",
      "Question 8: What is the significance of quantum supremacy?\n",
      "\n",
      "a) The achievement of quantum entanglement\n",
      "b) The establishment of quantum computing as the standard\n",
      "c) The ability to solve complex problems faster than classical computers\n",
      "d) The development of quantum algorithms for optimization\n",
      "\n",
      "\n",
      "Enter your answer: c\n",
      "\n",
      "Question 9: What is the role of quantum error correction in quantum computing?\n",
      "\n",
      "a) To prevent errors in the transmission of classical data\n",
      "b) To correct errors that occur during quantum computations\n",
      "c) To optimize the performance of quantum gates\n",
      "d) To provide security against quantum hacking\n",
      "\n",
      "\n",
      "Enter your answer: d\n",
      "\n",
      "Question 10: What is the ultimate goal of quantum computing?\n",
      "\n",
      "a) To replace classical computers entirely\n",
      "b) To simulate quantum systems accurately\n",
      "c) To improve the efficiency of data storage and retrieval\n",
      "d) To revolutionize various fields including cryptography and drug discovery\n",
      "\n",
      "\n",
      "Enter your answer: d\n"
     ]
    }
   ],
   "source": [
    "student_answers = take(student_view)"
   ]
  },
  {
   "cell_type": "code",
   "execution_count": 17,
   "id": "76c7fe0a",
   "metadata": {},
   "outputs": [
    {
     "data": {
      "text/plain": [
       "{1: 'b',\n",
       " 2: 'b',\n",
       " 3: 'c',\n",
       " 4: 'd',\n",
       " 5: 'd',\n",
       " 6: 'b',\n",
       " 7: 'a',\n",
       " 8: 'c',\n",
       " 9: 'd',\n",
       " 10: 'd'}"
      ]
     },
     "execution_count": 17,
     "metadata": {},
     "output_type": "execute_result"
    }
   ],
   "source": [
    "student_answers"
   ]
  },
  {
   "cell_type": "code",
   "execution_count": 18,
   "id": "b4fcfa5f",
   "metadata": {},
   "outputs": [
    {
     "data": {
      "text/plain": [
       "'Correct Answer: b) The ability to be in multiple states simultaneously\\n'"
      ]
     },
     "execution_count": 18,
     "metadata": {},
     "output_type": "execute_result"
    }
   ],
   "source": [
    "answers[2] #Sample"
   ]
  },
  {
   "cell_type": "markdown",
   "id": "a8582495",
   "metadata": {},
   "source": [
    "## Test Grading Function"
   ]
  },
  {
   "cell_type": "code",
   "execution_count": 19,
   "id": "1345686c",
   "metadata": {},
   "outputs": [],
   "source": [
    "def grade(correct_answer_dict,student_answers):\n",
    "    correct_answers = 0\n",
    "    for question,answer in student_answers.items():\n",
    "        print(question, answer)\n",
    "        if answer.upper() == correct_answer_dict[question][16].upper():\n",
    "            correct_answers +=1\n",
    "    grade = 100*correct_answers / len(answers)\n",
    "    \n",
    "    if grade < 60:\n",
    "        passed = \"NO PASS\"\n",
    "    else:\n",
    "        passed = \"PASS!\"\n",
    "        \n",
    "    return f\"{correct_answers}/{len(answers)} correct! You got {grade} grade, {passed}\""
   ]
  },
  {
   "cell_type": "markdown",
   "id": "2359f705",
   "metadata": {},
   "source": [
    "## Presenting correct answers along with the total grade. "
   ]
  },
  {
   "cell_type": "code",
   "execution_count": 20,
   "id": "17ccf540",
   "metadata": {},
   "outputs": [
    {
     "name": "stdout",
     "output_type": "stream",
     "text": [
      "1 b\n",
      "2 b\n",
      "3 c\n",
      "4 d\n",
      "5 d\n",
      "6 b\n",
      "7 a\n",
      "8 c\n",
      "9 d\n",
      "10 d\n"
     ]
    },
    {
     "data": {
      "text/plain": [
       "'8/10 correct! You got 80.0 grade, PASS!'"
      ]
     },
     "execution_count": 20,
     "metadata": {},
     "output_type": "execute_result"
    }
   ],
   "source": [
    "grade(answers, student_answers)"
   ]
  },
  {
   "cell_type": "code",
   "execution_count": null,
   "id": "0c884cdb",
   "metadata": {},
   "outputs": [],
   "source": []
  }
 ],
 "metadata": {
  "kernelspec": {
   "display_name": "Python 3 (ipykernel)",
   "language": "python",
   "name": "python3"
  },
  "language_info": {
   "codemirror_mode": {
    "name": "ipython",
    "version": 3
   },
   "file_extension": ".py",
   "mimetype": "text/x-python",
   "name": "python",
   "nbconvert_exporter": "python",
   "pygments_lexer": "ipython3",
   "version": "3.11.5"
  }
 },
 "nbformat": 4,
 "nbformat_minor": 5
}
