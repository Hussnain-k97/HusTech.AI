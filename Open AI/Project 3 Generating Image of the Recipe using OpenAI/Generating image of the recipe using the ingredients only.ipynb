{
 "cells": [
  {
   "cell_type": "markdown",
   "id": "95c3e596",
   "metadata": {},
   "source": [
    "## Import necessary libraries"
   ]
  },
  {
   "cell_type": "code",
   "execution_count": 1,
   "id": "b394bbdd",
   "metadata": {},
   "outputs": [],
   "source": [
    "import os\n",
    "import openai"
   ]
  },
  {
   "cell_type": "markdown",
   "id": "d131fa30",
   "metadata": {},
   "source": [
    "## Retrieve API key from environment variables"
   ]
  },
  {
   "cell_type": "markdown",
   "id": "4b440628",
   "metadata": {},
   "source": [
    "This line sets the OpenAI API key by accessing it from the environment variable 'OPENAI_API_KEY'."
   ]
  },
  {
   "cell_type": "code",
   "execution_count": 2,
   "id": "387f9dbf",
   "metadata": {},
   "outputs": [],
   "source": [
    "openai.api_key = os.environ['OPENAI_API_KEY']"
   ]
  },
  {
   "cell_type": "markdown",
   "id": "d813f288",
   "metadata": {},
   "source": [
    "This code initializes an OpenAI client using the API key fetched from the environment variable 'OPENAI_API_KEY'."
   ]
  },
  {
   "cell_type": "code",
   "execution_count": 3,
   "id": "b3d26ef9",
   "metadata": {},
   "outputs": [],
   "source": [
    "from openai import OpenAI\n",
    "client = OpenAI(\n",
    "  api_key=os.environ['OPENAI_API_KEY'],  # this is also the default, it can be omitted\n",
    ")"
   ]
  },
  {
   "cell_type": "markdown",
   "id": "8c80e231",
   "metadata": {},
   "source": [
    "## Function to create a prompt for generating a recipe based on a list of ingredients and a category"
   ]
  },
  {
   "cell_type": "markdown",
   "id": "5f039c86",
   "metadata": {},
   "source": [
    "This function generates a prompt for creating a recipe, incorporating a list of ingredients and requiring a title that begins with 'Recipe Title: '."
   ]
  },
  {
   "cell_type": "code",
   "execution_count": 4,
   "id": "37d4d1fa",
   "metadata": {},
   "outputs": [],
   "source": [
    "def create_dish_prompt(list_of_ingredients):\n",
    "    # Construct a prompt using the provided ingredients list and category\n",
    "    prompt = f\"Create a detailed recipe using the following ingredients: {', '.join(list_of_ingredients)}.\\n\"\\\n",
    "             + f\"Additionally, assign a title starting with 'Recipe Title: ' to this recipe.\"\n",
    "    return prompt"
   ]
  },
  {
   "cell_type": "markdown",
   "id": "ae77ea4a",
   "metadata": {},
   "source": [
    "## Entering the Ingredients"
   ]
  },
  {
   "cell_type": "markdown",
   "id": "4fa5a0af",
   "metadata": {},
   "source": [
    "This code generates a recipe prompt using a list of ingredients for a dessert dish."
   ]
  },
  {
   "cell_type": "code",
   "execution_count": 5,
   "id": "1bf8febb",
   "metadata": {},
   "outputs": [],
   "source": [
    "recipe = create_dish_prompt(['strawberries','vanilla icecream','chololate syrup','Whipped cream','sprinkles for garnish' ])"
   ]
  },
  {
   "cell_type": "code",
   "execution_count": 6,
   "id": "54ec369e",
   "metadata": {},
   "outputs": [
    {
     "data": {
      "text/plain": [
       "\"Create a detailed recipe using the following ingredients: strawberries, vanilla icecream, chololate syrup, Whipped cream, sprinkles for garnish.\\nAdditionally, assign a title starting with 'Recipe Title: ' to this recipe.\""
      ]
     },
     "execution_count": 6,
     "metadata": {},
     "output_type": "execute_result"
    }
   ],
   "source": [
    "recipe"
   ]
  },
  {
   "cell_type": "code",
   "execution_count": 7,
   "id": "a01f45b6",
   "metadata": {},
   "outputs": [],
   "source": [
    "#i = ['eggs','bacon','bread']"
   ]
  },
  {
   "cell_type": "code",
   "execution_count": 8,
   "id": "efdb355f",
   "metadata": {},
   "outputs": [],
   "source": [
    "#', '.join(i)"
   ]
  },
  {
   "cell_type": "markdown",
   "id": "1ad73510",
   "metadata": {},
   "source": [
    "\n",
    "This code initiates a chat completion request using the generated recipe prompt within a chat context using the OpenAI GPT-3.5 Turbo model."
   ]
  },
  {
   "cell_type": "code",
   "execution_count": 9,
   "id": "10168e47",
   "metadata": {},
   "outputs": [],
   "source": [
    "# Use the prompt in the completion code by initiating a chat completion request\n",
    "completion = client.chat.completions.create(\n",
    "    messages=[\n",
    "        {\n",
    "            \"role\": \"user\",\n",
    "            \"content\": recipe,\n",
    "        }\n",
    "    ],\n",
    "    model=\"gpt-3.5-turbo\",\n",
    ")"
   ]
  },
  {
   "cell_type": "code",
   "execution_count": 10,
   "id": "0f850127",
   "metadata": {},
   "outputs": [],
   "source": [
    "# Extract the content from the completion\n",
    "content = completion.choices[0].message.content"
   ]
  },
  {
   "cell_type": "code",
   "execution_count": 11,
   "id": "8349a6ba",
   "metadata": {},
   "outputs": [],
   "source": [
    "# Split the content into recipe title and detailed recipe\n",
    "split_content = content.split('\\n', 1)  # Split into two parts based on the first newline\n",
    "recipe_title = split_content[0].strip()  # Extract the recipe title\n",
    "detailed_recipe = split_content[1].strip()  # Extract the detailed recipe content"
   ]
  },
  {
   "cell_type": "code",
   "execution_count": 12,
   "id": "f1eb4cdc",
   "metadata": {},
   "outputs": [
    {
     "name": "stdout",
     "output_type": "stream",
     "text": [
      "Recipe Title: Strawberry Ice Cream Delight\n",
      "\n",
      "Detailed Recipe:\n",
      "Ingredients:\n",
      "- 2 cups fresh strawberries, hulled and sliced\n",
      "- 4 scoops vanilla ice cream\n",
      "- 1/4 cup chocolate syrup\n",
      "- 1 cup whipped cream\n",
      "- Sprinkles for garnish\n",
      "\n",
      "Instructions:\n",
      "1. Wash the strawberries thoroughly and remove the stems. Slice them into thin pieces and set aside.\n",
      "\n",
      "2. Take out four serving bowls or glasses and place one scoop of vanilla ice cream into each. Allow the ice cream to soften slightly, making it easier to combine with the strawberries.\n",
      "\n",
      "3. Place a handful of sliced strawberries onto each scoop of ice cream. Gently mix the strawberries into the ice cream, ensuring they are evenly distributed.\n",
      "\n",
      "4. Drizzle the chocolate syrup over the strawberry and ice cream mixture. Use approximately 1 tablespoon of syrup per serving, or adjust to your preference.\n",
      "\n",
      "5. Next, add a generous dollop of whipped cream on top of each bowl. You can either use store-bought whipped cream or prepare it at home by whipping heavy cream until stiff peaks form.\n",
      "\n",
      "6. Finally, sprinkle a handful of colorful sprinkles over the whipped cream for a fun and enticing garnish. Feel free to use your favorite sprinkles or choose ones that match the occasion or season.\n",
      "\n",
      "7. Serve immediately, and enjoy this delightful and refreshing Strawberry Ice Cream treat!\n",
      "\n",
      "Note: You can get creative with this recipe by adding other toppings like nuts, crushed cookies, or fresh mint leaves. You can also double or halve the ingredients based on the number of servings required.\n"
     ]
    }
   ],
   "source": [
    "# Print the extracted parts\n",
    "print(recipe_title)\n",
    "print(\"\\nDetailed Recipe:\")\n",
    "print(detailed_recipe)"
   ]
  },
  {
   "cell_type": "code",
   "execution_count": 13,
   "id": "2ff32fa8",
   "metadata": {},
   "outputs": [],
   "source": [
    "#import re"
   ]
  },
  {
   "cell_type": "code",
   "execution_count": 14,
   "id": "e392635c",
   "metadata": {},
   "outputs": [],
   "source": [
    "#pip install Pillow"
   ]
  },
  {
   "cell_type": "code",
   "execution_count": 15,
   "id": "74562491",
   "metadata": {},
   "outputs": [
    {
     "name": "stdout",
     "output_type": "stream",
     "text": [
      "Recipe Title: Strawberry Ice Cream Delight\n"
     ]
    }
   ],
   "source": [
    "print(recipe_title)"
   ]
  },
  {
   "cell_type": "markdown",
   "id": "7bb10bd0",
   "metadata": {},
   "source": [
    "## Generating Image of the Cooked Recipe"
   ]
  },
  {
   "cell_type": "markdown",
   "id": "755d7cce",
   "metadata": {},
   "source": [
    "\n",
    "This function uses OpenAI's DALL·E model to generate an image based on a provided recipe title, producing an image URL as output."
   ]
  },
  {
   "cell_type": "code",
   "execution_count": 16,
   "id": "655d3f59",
   "metadata": {},
   "outputs": [],
   "source": [
    "def generate_dalle_image(recipe_title):\n",
    "    response = client.images.generate(\n",
    "        model=\"dall-e-3\",\n",
    "        prompt=recipe_title,\n",
    "        size=\"1024x1024\",\n",
    "        quality=\"standard\",\n",
    "        n=1,\n",
    "    )\n",
    "    url = response.data[0].url if response.data else None\n",
    "    return url"
   ]
  },
  {
   "cell_type": "code",
   "execution_count": 17,
   "id": "b42e9ce7",
   "metadata": {},
   "outputs": [],
   "source": [
    "url = generate_dalle_image(recipe_title)"
   ]
  },
  {
   "cell_type": "markdown",
   "id": "da0e38c9",
   "metadata": {},
   "source": [
    "## Displaying the image within the code"
   ]
  },
  {
   "cell_type": "code",
   "execution_count": 18,
   "id": "4313a0ce",
   "metadata": {},
   "outputs": [],
   "source": [
    "from IPython.display import display, Image"
   ]
  },
  {
   "cell_type": "markdown",
   "id": "3e5b9b3e",
   "metadata": {},
   "source": [
    "This code generates an image using DALL·E based on a recipe title, displays the image if the URL exists, and prints a message if no image URL is generated."
   ]
  },
  {
   "cell_type": "code",
   "execution_count": 19,
   "id": "1bdc1e1e",
   "metadata": {},
   "outputs": [
    {
     "data": {
      "text/html": [
       "<img src=\"https://oaidalleapiprodscus.blob.core.windows.net/private/org-133WEp9OM22lSLa3K9UwMwIh/user-IYicHphMk9O3RXaghxvOKePv/img-oJxUy81uwBLZ9SH9vJV53RaN.png?st=2023-12-21T12%3A56%3A16Z&se=2023-12-21T14%3A56%3A16Z&sp=r&sv=2021-08-06&sr=b&rscd=inline&rsct=image/png&skoid=6aaadede-4fb3-4698-a8f6-684d7786b067&sktid=a48cca56-e6da-484e-a814-9c849652bcb3&skt=2023-12-20T23%3A01%3A00Z&ske=2023-12-21T23%3A01%3A00Z&sks=b&skv=2021-08-06&sig=X/OLpKDwp2jEzoKo6h42WBk/l9T7JozLRB5X3YaPYvo%3D\"/>"
      ],
      "text/plain": [
       "<IPython.core.display.Image object>"
      ]
     },
     "metadata": {},
     "output_type": "display_data"
    }
   ],
   "source": [
    "# Call the function and store the URL\n",
    "url = generate_dalle_image(recipe_title,)\n",
    "# Display the image if URL exists\n",
    "if url:\n",
    "    display(Image(url=url))\n",
    "else:\n",
    "    print(\"No image URL generated.\")\n",
    "    "
   ]
  }
 ],
 "metadata": {
  "kernelspec": {
   "display_name": "Python 3 (ipykernel)",
   "language": "python",
   "name": "python3"
  },
  "language_info": {
   "codemirror_mode": {
    "name": "ipython",
    "version": 3
   },
   "file_extension": ".py",
   "mimetype": "text/x-python",
   "name": "python",
   "nbconvert_exporter": "python",
   "pygments_lexer": "ipython3",
   "version": "3.11.5"
  }
 },
 "nbformat": 4,
 "nbformat_minor": 5
}
